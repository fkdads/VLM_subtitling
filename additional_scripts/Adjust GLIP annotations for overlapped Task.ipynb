{
 "cells": [
  {
   "cell_type": "code",
   "execution_count": 137,
   "id": "e9cedf6d",
   "metadata": {},
   "outputs": [],
   "source": [
    "import json\n",
    "\n",
    "path = r\"D:\\Master_Thesis_data\\Active_Speaker\\data\\val\\result.json\"\n",
    "\n",
    "with open(path, 'r') as file:\n",
    "    data = json.load(file)"
   ]
  },
  {
   "cell_type": "code",
   "execution_count": 138,
   "id": "71c42b92",
   "metadata": {},
   "outputs": [
    {
     "data": {
      "text/plain": [
       "[684.3564356435643, 179.86290936785983, 231.0434120335112, 293.9223153084539]"
      ]
     },
     "execution_count": 138,
     "metadata": {},
     "output_type": "execute_result"
    }
   ],
   "source": [
    "data[\"annotations\"][0][\"bbox\"]"
   ]
  },
  {
   "cell_type": "code",
   "execution_count": 139,
   "id": "fbfc721a",
   "metadata": {},
   "outputs": [],
   "source": [
    "for idx, dict in enumerate(data[\"annotations\"]):\n",
    "    x_05 = dict[\"bbox\"][2] * .05\n",
    "    y_05 = dict[\"bbox\"][3] * .05\n",
    "    dict[\"bbox\"] = [max(0, dict[\"bbox\"][0] - x_05), \n",
    "                    max(0, dict[\"bbox\"][1] - y_05), \n",
    "                    max(0, dict[\"bbox\"][2] + x_05 * 2), \n",
    "                    max(0, dict[\"bbox\"][3] + y_05 * 2)]\n",
    "    #for i in range(len(dict[\"bbox\"])):\n",
    "        \n",
    "    #    if i > 1:\n",
    "    #        dict[\"bbox\"][i] = dict[\"bbox\"][i] * 1.05\n",
    "    #    else:\n",
    "    #        dict[\"bbox\"][i] = dict[\"bbox\"][i] * 0.95\n",
    "    # data[\"annotations\"][idx][\"bbox\"] = dict[\"bbox\"]"
   ]
  },
  {
   "cell_type": "code",
   "execution_count": 140,
   "id": "3021a437",
   "metadata": {},
   "outputs": [
    {
     "data": {
      "text/plain": [
       "[672.8042650418887, 165.16679360243714, 254.14775323686231, 323.3145468392993]"
      ]
     },
     "execution_count": 140,
     "metadata": {},
     "output_type": "execute_result"
    }
   ],
   "source": [
    "data[\"annotations\"][0][\"bbox\"]"
   ]
  },
  {
   "cell_type": "code",
   "execution_count": 141,
   "id": "2d8ad50c",
   "metadata": {},
   "outputs": [
    {
     "data": {
      "text/plain": [
       "'5e0c813d-1875.jpg'"
      ]
     },
     "execution_count": 141,
     "metadata": {},
     "output_type": "execute_result"
    }
   ],
   "source": [
    "data[\"images\"][0][\"file_name\"]"
   ]
  },
  {
   "cell_type": "code",
   "execution_count": 142,
   "id": "aa4047aa",
   "metadata": {},
   "outputs": [],
   "source": [
    "for dict in data[\"images\"]:\n",
    "    dict[\"file_name\"] = dict[\"file_name\"].split(\"-\")[-1]"
   ]
  },
  {
   "cell_type": "code",
   "execution_count": 143,
   "id": "99c98e24",
   "metadata": {},
   "outputs": [
    {
     "data": {
      "text/plain": [
       "'1875.jpg'"
      ]
     },
     "execution_count": 143,
     "metadata": {},
     "output_type": "execute_result"
    }
   ],
   "source": [
    "data[\"images\"][0][\"file_name\"]"
   ]
  },
  {
   "cell_type": "code",
   "execution_count": 144,
   "id": "3375066e",
   "metadata": {},
   "outputs": [],
   "source": [
    "with open(path.replace(\"result.json\", \"result_overlapped.json\"), 'w') as file:\n",
    "    json.dump(data, file)"
   ]
  },
  {
   "cell_type": "code",
   "execution_count": null,
   "id": "6083d39f",
   "metadata": {},
   "outputs": [],
   "source": []
  }
 ],
 "metadata": {
  "kernelspec": {
   "display_name": "Python 3 (ipykernel)",
   "language": "python",
   "name": "python3"
  },
  "language_info": {
   "codemirror_mode": {
    "name": "ipython",
    "version": 3
   },
   "file_extension": ".py",
   "mimetype": "text/x-python",
   "name": "python",
   "nbconvert_exporter": "python",
   "pygments_lexer": "ipython3",
   "version": "3.11.3"
  }
 },
 "nbformat": 4,
 "nbformat_minor": 5
}
