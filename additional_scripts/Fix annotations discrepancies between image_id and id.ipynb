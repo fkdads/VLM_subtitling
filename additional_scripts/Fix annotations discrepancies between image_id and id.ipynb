{
 "cells": [
  {
   "cell_type": "code",
   "execution_count": 15,
   "id": "530846f2",
   "metadata": {},
   "outputs": [],
   "source": [
    "import json\n",
    "\n",
    "path = r\"C:\\Users\\Fabia\\Downloads\\drive-download-20231103T102354Z-001\\test_results.json\"\n",
    "\n",
    "with open(path, \"r\") as file:\n",
    "    data = json.load(file)"
   ]
  },
  {
   "cell_type": "code",
   "execution_count": 16,
   "id": "3dc3cf35",
   "metadata": {},
   "outputs": [],
   "source": [
    "for pdict in data[\"images\"]:\n",
    "    pdict[\"id\"] = int(pdict[\"file_name\"].split(\".\")[0])"
   ]
  },
  {
   "cell_type": "code",
   "execution_count": 17,
   "id": "3766cf50",
   "metadata": {},
   "outputs": [],
   "source": [
    "with open(path, \"w\") as json_file:\n",
    "    json.dump(data, json_file, indent=4)"
   ]
  },
  {
   "cell_type": "code",
   "execution_count": null,
   "id": "56df7dc3",
   "metadata": {},
   "outputs": [],
   "source": []
  }
 ],
 "metadata": {
  "kernelspec": {
   "display_name": "Python 3 (ipykernel)",
   "language": "python",
   "name": "python3"
  },
  "language_info": {
   "codemirror_mode": {
    "name": "ipython",
    "version": 3
   },
   "file_extension": ".py",
   "mimetype": "text/x-python",
   "name": "python",
   "nbconvert_exporter": "python",
   "pygments_lexer": "ipython3",
   "version": "3.11.3"
  }
 },
 "nbformat": 4,
 "nbformat_minor": 5
}
